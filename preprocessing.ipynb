{
 "cells": [
  {
   "cell_type": "code",
   "execution_count": 10,
   "id": "6230011e-50ae-4b0d-843e-d6b4ebedb459",
   "metadata": {},
   "outputs": [],
   "source": [
    "import pandas as pd\n",
    "import numpy as np\n",
    "import string\n",
    "from nltk.stem import PorterStemmer\n",
    "from sklearn.feature_extraction.text import TfidfVectorizer\n",
    "import pickle\n",
    "import zipfile"
   ]
  },
  {
   "cell_type": "code",
   "execution_count": 11,
   "id": "b353d42e-c978-4dbd-a88b-5a12783d24f5",
   "metadata": {},
   "outputs": [
    {
     "name": "stdout",
     "output_type": "stream",
     "text": [
      "Defaulting to user installation because normal site-packages is not writeable\n",
      "Requirement already satisfied: kaggle in /home/sagnick/.local/lib/python3.13/site-packages (1.6.17)\n",
      "Requirement already satisfied: six>=1.10 in /usr/lib/python3.13/site-packages (from kaggle) (1.16.0)\n",
      "Requirement already satisfied: certifi>=2023.7.22 in /home/sagnick/.local/lib/python3.13/site-packages (from kaggle) (2024.8.30)\n",
      "Requirement already satisfied: python-dateutil in /usr/lib/python3.13/site-packages (from kaggle) (2.8.2)\n",
      "Requirement already satisfied: requests in /usr/lib/python3.13/site-packages (from kaggle) (2.32.3)\n",
      "Requirement already satisfied: tqdm in /home/sagnick/.local/lib/python3.13/site-packages (from kaggle) (4.67.0)\n",
      "Requirement already satisfied: python-slugify in /home/sagnick/.local/lib/python3.13/site-packages (from kaggle) (8.0.4)\n",
      "Requirement already satisfied: urllib3 in /usr/lib/python3.13/site-packages (from kaggle) (1.26.20)\n",
      "Requirement already satisfied: bleach in /home/sagnick/.local/lib/python3.13/site-packages (from kaggle) (6.2.0)\n",
      "Requirement already satisfied: webencodings in /home/sagnick/.local/lib/python3.13/site-packages (from bleach->kaggle) (0.5.1)\n",
      "Requirement already satisfied: text-unidecode>=1.3 in /home/sagnick/.local/lib/python3.13/site-packages (from python-slugify->kaggle) (1.3)\n",
      "Requirement already satisfied: charset-normalizer<4,>=2 in /usr/lib/python3.13/site-packages (from requests->kaggle) (3.3.2)\n",
      "Requirement already satisfied: idna<4,>=2.5 in /usr/lib/python3.13/site-packages (from requests->kaggle) (3.7)\n",
      "Dataset URL: https://www.kaggle.com/datasets/jp797498e/twitter-entity-sentiment-analysis\n",
      "License(s): CC0-1.0\n",
      "Downloading twitter-entity-sentiment-analysis.zip to dataset\n",
      "100%|██████████████████████████████████████| 1.99M/1.99M [00:01<00:00, 1.53MB/s]\n",
      "100%|██████████████████████████████████████| 1.99M/1.99M [00:01<00:00, 1.34MB/s]\n"
     ]
    }
   ],
   "source": [
    "!pip install kaggle\n",
    "!kaggle datasets download jp797498e/twitter-entity-sentiment-analysis -p dataset"
   ]
  },
  {
   "cell_type": "code",
   "execution_count": 12,
   "id": "2450cb4d-5980-4aa5-a4db-0da3c347f633",
   "metadata": {},
   "outputs": [],
   "source": [
    "with zipfile.ZipFile('./dataset/twitter-entity-sentiment-analysis.zip','r') as f:\n",
    "    f.extractall(\"dataset\")"
   ]
  },
  {
   "cell_type": "code",
   "execution_count": 13,
   "id": "b1fd39d2-4fa1-4af7-9746-792162670a7c",
   "metadata": {},
   "outputs": [
    {
     "data": {
      "text/html": [
       "<div>\n",
       "<style scoped>\n",
       "    .dataframe tbody tr th:only-of-type {\n",
       "        vertical-align: middle;\n",
       "    }\n",
       "\n",
       "    .dataframe tbody tr th {\n",
       "        vertical-align: top;\n",
       "    }\n",
       "\n",
       "    .dataframe thead th {\n",
       "        text-align: right;\n",
       "    }\n",
       "</style>\n",
       "<table border=\"1\" class=\"dataframe\">\n",
       "  <thead>\n",
       "    <tr style=\"text-align: right;\">\n",
       "      <th></th>\n",
       "      <th>Sentiment</th>\n",
       "      <th>Comment</th>\n",
       "    </tr>\n",
       "  </thead>\n",
       "  <tbody>\n",
       "    <tr>\n",
       "      <th>0</th>\n",
       "      <td>Positive</td>\n",
       "      <td>im getting on borderlands and i will murder yo...</td>\n",
       "    </tr>\n",
       "    <tr>\n",
       "      <th>1</th>\n",
       "      <td>Positive</td>\n",
       "      <td>I am coming to the borders and I will kill you...</td>\n",
       "    </tr>\n",
       "    <tr>\n",
       "      <th>2</th>\n",
       "      <td>Positive</td>\n",
       "      <td>im getting on borderlands and i will kill you ...</td>\n",
       "    </tr>\n",
       "    <tr>\n",
       "      <th>3</th>\n",
       "      <td>Positive</td>\n",
       "      <td>im coming on borderlands and i will murder you...</td>\n",
       "    </tr>\n",
       "    <tr>\n",
       "      <th>4</th>\n",
       "      <td>Positive</td>\n",
       "      <td>im getting on borderlands 2 and i will murder ...</td>\n",
       "    </tr>\n",
       "    <tr>\n",
       "      <th>...</th>\n",
       "      <td>...</td>\n",
       "      <td>...</td>\n",
       "    </tr>\n",
       "    <tr>\n",
       "      <th>9995</th>\n",
       "      <td>Irrelevant</td>\n",
       "      <td>So the smaller studio version of why Xbox Seri...</td>\n",
       "    </tr>\n",
       "    <tr>\n",
       "      <th>9996</th>\n",
       "      <td>Positive</td>\n",
       "      <td>Xbox looking BEAUTIFUL</td>\n",
       "    </tr>\n",
       "    <tr>\n",
       "      <th>9997</th>\n",
       "      <td>Positive</td>\n",
       "      <td>Xbox looks BEAUTIFUL</td>\n",
       "    </tr>\n",
       "    <tr>\n",
       "      <th>9998</th>\n",
       "      <td>Positive</td>\n",
       "      <td>Xbox looking BEAUTIFUL</td>\n",
       "    </tr>\n",
       "    <tr>\n",
       "      <th>9999</th>\n",
       "      <td>Positive</td>\n",
       "      <td>Xbox looking around</td>\n",
       "    </tr>\n",
       "  </tbody>\n",
       "</table>\n",
       "<p>10000 rows × 2 columns</p>\n",
       "</div>"
      ],
      "text/plain": [
       "       Sentiment                                            Comment\n",
       "0       Positive  im getting on borderlands and i will murder yo...\n",
       "1       Positive  I am coming to the borders and I will kill you...\n",
       "2       Positive  im getting on borderlands and i will kill you ...\n",
       "3       Positive  im coming on borderlands and i will murder you...\n",
       "4       Positive  im getting on borderlands 2 and i will murder ...\n",
       "...          ...                                                ...\n",
       "9995  Irrelevant  So the smaller studio version of why Xbox Seri...\n",
       "9996    Positive                             Xbox looking BEAUTIFUL\n",
       "9997    Positive                               Xbox looks BEAUTIFUL\n",
       "9998    Positive                             Xbox looking BEAUTIFUL\n",
       "9999    Positive                                Xbox looking around\n",
       "\n",
       "[10000 rows x 2 columns]"
      ]
     },
     "execution_count": 13,
     "metadata": {},
     "output_type": "execute_result"
    }
   ],
   "source": [
    "data=pd.read_csv(\"./dataset/twitter_training.csv\",header=None)[:10000]\n",
    "data.rename(columns={0: 'Id', 1: 'Company',2:'Sentiment',3:'Comment'}, inplace=True)\n",
    "data=data.iloc[:,-2:]\n",
    "data"
   ]
  },
  {
   "cell_type": "code",
   "execution_count": 14,
   "id": "f581c4d1-0d67-41b0-9d5f-54615326ec40",
   "metadata": {},
   "outputs": [
    {
     "data": {
      "text/plain": [
       "Sentiment      0\n",
       "Comment      112\n",
       "dtype: int64"
      ]
     },
     "metadata": {},
     "output_type": "display_data"
    },
    {
     "data": {
      "text/plain": [
       "Sentiment    0\n",
       "Comment      0\n",
       "dtype: int64"
      ]
     },
     "metadata": {},
     "output_type": "display_data"
    }
   ],
   "source": [
    "display(data.isna().sum())\n",
    "data.dropna(inplace=True)\n",
    "display(data.isna().sum())"
   ]
  },
  {
   "cell_type": "code",
   "execution_count": 15,
   "id": "122d9052-d021-459f-921a-92319dfde966",
   "metadata": {},
   "outputs": [],
   "source": [
    "def preprocess(text):\n",
    "    x=\" \".join([st.stem(x) for x in text.split()])\n",
    "    x=x.translate(str.maketrans('','',string.punctuation))\n",
    "    return x"
   ]
  },
  {
   "cell_type": "code",
   "execution_count": 16,
   "id": "bea0e268-09ec-466a-91a1-1ea6fdd0403f",
   "metadata": {},
   "outputs": [],
   "source": [
    "target={j:i for i,j in enumerate(set(data[\"Sentiment\"]))}\n",
    "x=data[\"Comment\"]\n",
    "y = np.array(data[\"Sentiment\"].map(target))\n",
    "st=PorterStemmer()\n",
    "tokenizer=TfidfVectorizer(stop_words='english')\n",
    "x=x.map(preprocess)\n",
    "token_mod=tokenizer.fit(x)\n",
    "tokenized=token_mod.transform(x)"
   ]
  },
  {
   "cell_type": "code",
   "execution_count": 17,
   "id": "7da9a626-ee3b-4096-9c92-4aabd87a2430",
   "metadata": {},
   "outputs": [],
   "source": [
    "out=pd.DataFrame(tokenized.toarray(), columns=tokenizer.get_feature_names_out())\n",
    "out[\"Sentiment\"]=y\n",
    "out.to_csv(\"preprocessed.csv\",index=False)"
   ]
  },
  {
   "cell_type": "code",
   "execution_count": 18,
   "id": "2ac9ddc6-6f64-47ba-ae2d-5f53f5670783",
   "metadata": {},
   "outputs": [],
   "source": [
    "with open(\"token_model.pkl\",\"wb\") as f:\n",
    "    pickle.dump(token_mod,f)"
   ]
  },
  {
   "cell_type": "code",
   "execution_count": 19,
   "id": "37b30d95-113a-4fc8-82a0-d47035f81851",
   "metadata": {},
   "outputs": [
    {
     "data": {
      "text/plain": [
       "{'Irrelevant': 0, 'Negative': 1, 'Neutral': 2, 'Positive': 3}"
      ]
     },
     "execution_count": 19,
     "metadata": {},
     "output_type": "execute_result"
    }
   ],
   "source": [
    "target"
   ]
  },
  {
   "cell_type": "code",
   "execution_count": null,
   "id": "11ee0e2b-e87a-42ae-b4fa-9b361905b19e",
   "metadata": {},
   "outputs": [],
   "source": []
  }
 ],
 "metadata": {
  "kernelspec": {
   "display_name": "Python 3 (ipykernel)",
   "language": "python",
   "name": "python3"
  },
  "language_info": {
   "codemirror_mode": {
    "name": "ipython",
    "version": 3
   },
   "file_extension": ".py",
   "mimetype": "text/x-python",
   "name": "python",
   "nbconvert_exporter": "python",
   "pygments_lexer": "ipython3",
   "version": "3.13.0"
  }
 },
 "nbformat": 4,
 "nbformat_minor": 5
}
